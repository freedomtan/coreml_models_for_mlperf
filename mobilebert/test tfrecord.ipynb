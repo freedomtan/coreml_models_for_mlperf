{
 "cells": [
  {
   "cell_type": "code",
   "execution_count": 1,
   "id": "fc497c9a",
   "metadata": {},
   "outputs": [
    {
     "name": "stderr",
     "output_type": "stream",
     "text": [
      "WARNING:root:TensorFlow version 2.9.2 has not been tested with coremltools. You may run into unexpected errors. TensorFlow 2.8.0 is the most recent version that has been tested.\n"
     ]
    }
   ],
   "source": [
    "import collections\n",
    "import numpy as np\n",
    "\n",
    "import tensorflow as tf\n",
    "import coremltools as ct"
   ]
  },
  {
   "cell_type": "code",
   "execution_count": 2,
   "id": "65ce90ea",
   "metadata": {},
   "outputs": [],
   "source": [
    "# get the first entry from 'squad_eval_mini.tfrecord'\n",
    "filenames = ['tfrecords/squad_eval_mini.tfrecord']\n",
    "\n",
    "raw_dataset = tf.data.TFRecordDataset(filenames, compression_type='ZLIB')\n",
    "for raw_record in raw_dataset.take(1):\n",
    "    example = tf.train.Example()\n",
    "    example.ParseFromString(raw_record.numpy())\n",
    "    \n",
    "    result = {}\n",
    "    # example.features.feature is the dictionary\n",
    "    for key, feature in example.features.feature.items():\n",
    "        # The values are the Feature objects which contain a `kind` which contains:\n",
    "        # one of three fields: bytes_list, float_list, int64_list\n",
    "        kind = feature.WhichOneof('kind')\n",
    "        result[key] = np.array(getattr(feature, kind).value)\n",
    "        \n",
    "input_ids, input_mask, segment_ids = result['input_ids'], result['input_mask'], result['segment_ids']"
   ]
  },
  {
   "cell_type": "code",
   "execution_count": 3,
   "id": "40aa3599",
   "metadata": {},
   "outputs": [],
   "source": [
    "# feed input_ids, input_mask, segment_ids into TF2 concrete function\n",
    "\n",
    "tf.compat.v1.enable_resource_variables\n",
    "tf_model = tf.saved_model.load('mobilebert_squad_savedmodels/float', tags='serve')\n",
    "p = tf_model.prune(['input_ids:0', 'input_mask:0', 'segment_ids:0'], ['end_logits:0', 'start_logits:0'])\n",
    "input_tensors = []\n",
    "for i in [input_ids, input_mask, segment_ids]:\n",
    "    input_tensors.append(tf.expand_dims(tf.convert_to_tensor(i, dtype=tf.int32), 0))\n",
    "o1, o2 = p(input_tensors[0], input_tensors[1], input_tensors[2])"
   ]
  },
  {
   "cell_type": "code",
   "execution_count": 4,
   "id": "027d57ad",
   "metadata": {},
   "outputs": [
    {
     "data": {
      "text/plain": [
       "(TopKV2(values=<tf.Tensor: shape=(1, 10), dtype=float32, numpy=\n",
       " array([[ 5.618709 , -4.4534087, -5.0897   , -8.070566 , -8.493772 ,\n",
       "         -8.609236 , -8.857419 , -9.096893 , -9.165716 , -9.285148 ]],\n",
       "       dtype=float32)>, indices=<tf.Tensor: shape=(1, 10), dtype=int32, numpy=array([[47, 46, 58, 55, 61, 44, 41, 52, 43, 45]], dtype=int32)>),\n",
       " TopKV2(values=<tf.Tensor: shape=(1, 10), dtype=float32, numpy=\n",
       " array([[ 6.004444 , -1.1120071, -4.0550504, -5.049522 , -5.7007403,\n",
       "         -6.182735 , -6.478626 , -7.8853316, -8.23952  , -8.357329 ]],\n",
       "       dtype=float32)>, indices=<tf.Tensor: shape=(1, 10), dtype=int32, numpy=array([[46, 47, 38, 57, 39, 48, 43, 50, 49, 58]], dtype=int32)>))"
      ]
     },
     "execution_count": 4,
     "metadata": {},
     "output_type": "execute_result"
    }
   ],
   "source": [
    "tf.math.top_k(o1, 10), tf.math.top_k(o2, 10)"
   ]
  },
  {
   "cell_type": "code",
   "execution_count": 5,
   "id": "552f963b",
   "metadata": {},
   "outputs": [],
   "source": [
    "# feed input_ids, input_mask, segment_ids into Core ML model\n",
    "# with all the compute units, we got different / unexpected results on devices with Neural Engine\n",
    "# no surprise on macOS on x86_64 machines\n",
    "\n",
    "model = ct.models.MLModel('MobileBERT.mlmodel')\n",
    "inputs = {'input_ids': np.expand_dims(input_ids, 0).astype(np.float32), 'input_mask': np.expand_dims(input_mask, 0).astype(np.float32), 'segment_ids': np.expand_dims(segment_ids, 0).astype(np.float32)}\n",
    "\n",
    "o = model.predict(inputs)"
   ]
  },
  {
   "cell_type": "code",
   "execution_count": 6,
   "id": "215d9551",
   "metadata": {},
   "outputs": [
    {
     "data": {
      "text/plain": [
       "(TopKV2(values=<tf.Tensor: shape=(1, 10), dtype=float32, numpy=\n",
       " array([[ 6.0546875, -1.1083984, -4.0546875, -5.0585938, -5.671875 ,\n",
       "         -6.1875   , -6.484375 , -7.9023438, -8.2578125, -8.359375 ]],\n",
       "       dtype=float32)>, indices=<tf.Tensor: shape=(1, 10), dtype=int32, numpy=array([[46, 47, 38, 57, 39, 48, 43, 50, 49, 45]], dtype=int32)>),\n",
       " TopKV2(values=<tf.Tensor: shape=(1, 10), dtype=float32, numpy=\n",
       " array([[ 3.0760000e+03,  3.6775000e+02,  3.3650000e+02,  1.6837500e+02,\n",
       "          5.6640625e+00, -2.4133301e-01, -4.4648438e+00, -5.0898438e+00,\n",
       "         -8.0859375e+00, -8.5234375e+00]], dtype=float32)>, indices=<tf.Tensor: shape=(1, 10), dtype=int32, numpy=array([[ 12,   4,   3, 375,  47, 373,  46,  58,  55,  61]], dtype=int32)>))"
      ]
     },
     "execution_count": 6,
     "metadata": {},
     "output_type": "execute_result"
    }
   ],
   "source": [
    "tf.math.top_k(o['start_logits'], 10), tf.math.top_k(o['end_logits'], 10)"
   ]
  },
  {
   "cell_type": "code",
   "execution_count": 7,
   "id": "0e538cc2",
   "metadata": {},
   "outputs": [],
   "source": [
    "# feed input_ids, input_mask, segment_ids into Core ML model\n",
    "# with CPU only\n",
    "\n",
    "model = ct.models.MLModel('MobileBERT.mlmodel', compute_units=ct.ComputeUnit.CPU_ONLY)\n",
    "o = model.predict(inputs)"
   ]
  },
  {
   "cell_type": "code",
   "execution_count": 8,
   "id": "d767f72a",
   "metadata": {},
   "outputs": [
    {
     "data": {
      "text/plain": [
       "(TopKV2(values=<tf.Tensor: shape=(1, 10), dtype=float32, numpy=\n",
       " array([[ 6.004442 , -1.1120118, -4.0550613, -5.0495315, -5.7007465,\n",
       "         -6.1827283, -6.478644 , -7.88534  , -8.239529 , -8.357329 ]],\n",
       "       dtype=float32)>, indices=<tf.Tensor: shape=(1, 10), dtype=int32, numpy=array([[46, 47, 38, 57, 39, 48, 43, 50, 49, 58]], dtype=int32)>),\n",
       " TopKV2(values=<tf.Tensor: shape=(1, 10), dtype=float32, numpy=\n",
       " array([[ 5.618707 , -4.4534054, -5.089707 , -8.070569 , -8.4937725,\n",
       "         -8.609242 , -8.857415 , -9.096891 , -9.16571  , -9.285147 ]],\n",
       "       dtype=float32)>, indices=<tf.Tensor: shape=(1, 10), dtype=int32, numpy=array([[47, 46, 58, 55, 61, 44, 41, 52, 43, 45]], dtype=int32)>))"
      ]
     },
     "execution_count": 8,
     "metadata": {},
     "output_type": "execute_result"
    }
   ],
   "source": [
    "tf.math.top_k(o['start_logits'], 10), tf.math.top_k(o['end_logits'], 10)"
   ]
  }
 ],
 "metadata": {
  "kernelspec": {
   "display_name": "Python 3 (ipykernel)",
   "language": "python",
   "name": "python3"
  },
  "language_info": {
   "codemirror_mode": {
    "name": "ipython",
    "version": 3
   },
   "file_extension": ".py",
   "mimetype": "text/x-python",
   "name": "python",
   "nbconvert_exporter": "python",
   "pygments_lexer": "ipython3",
   "version": "3.8.13"
  }
 },
 "nbformat": 4,
 "nbformat_minor": 5
}
